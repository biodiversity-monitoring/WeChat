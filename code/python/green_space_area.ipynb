{
 "cells": [
  {
   "cell_type": "code",
   "execution_count": 1,
   "id": "0d2fbb79-d19c-4093-a985-4dc05e60a3f7",
   "metadata": {},
   "outputs": [],
   "source": [
    "import os\n",
    "import ee\n",
    "import geemap\n",
    "\n",
    "# 设置HTTP和HTTPS代理\n",
    "os.environ['HTTP_PROXY'] = 'http://127.0.0.1:7890'\n",
    "os.environ['HTTPS_PROXY'] = 'http://127.0.0.1:7890'\n",
    "\n",
    "# 初始化Google Earth Engine和geemap\n",
    "ee.Initialize()\n",
    "Map = geemap.Map()"
   ]
  },
  {
   "cell_type": "code",
   "execution_count": 2,
   "id": "a5537de9-be05-41d1-a2a0-f43c3433c6e1",
   "metadata": {},
   "outputs": [
    {
     "data": {
      "text/html": [
       "\n",
       "            <style>\n",
       "                .geemap-dark {\n",
       "                    --jp-widgets-color: white;\n",
       "                    --jp-widgets-label-color: white;\n",
       "                    --jp-ui-font-color1: white;\n",
       "                    --jp-layout-color2: #454545;\n",
       "                    background-color: #383838;\n",
       "                }\n",
       "                    \n",
       "                .geemap-dark .jupyter-button {\n",
       "                    --jp-layout-color3: #383838;\n",
       "                }\n",
       "                \n",
       "                .geemap-colab {\n",
       "                    background-color: var(--colab-primary-surface-color, white);\n",
       "                }\n",
       "                    \n",
       "                .geemap-colab .jupyter-button {\n",
       "                    --jp-layout-color3: var(--colab-primary-surface-color, white);\n",
       "                }\n",
       "            </style>\n",
       "            "
      ],
      "text/plain": [
       "<IPython.core.display.HTML object>"
      ]
     },
     "metadata": {},
     "output_type": "display_data"
    }
   ],
   "source": [
    "# 加载全球行政单元图层，选取南京市的行政边界\n",
    "nanjing_boundary = ee.FeatureCollection('FAO/GAUL_SIMPLIFIED_500m/2015/level2') \\\n",
    "                    .filter(ee.Filter.eq('ADM2_NAME', 'Nanjing'))\n",
    "\n",
    "# 定义感兴趣区域（ROI）为南京市的地理边界\n",
    "roi = nanjing_boundary.geometry()"
   ]
  },
  {
   "cell_type": "code",
   "execution_count": 3,
   "id": "bd7cd17a-439c-4f2b-9846-cf3705c245bb",
   "metadata": {},
   "outputs": [
    {
     "data": {
      "text/html": [
       "\n",
       "            <style>\n",
       "                .geemap-dark {\n",
       "                    --jp-widgets-color: white;\n",
       "                    --jp-widgets-label-color: white;\n",
       "                    --jp-ui-font-color1: white;\n",
       "                    --jp-layout-color2: #454545;\n",
       "                    background-color: #383838;\n",
       "                }\n",
       "                    \n",
       "                .geemap-dark .jupyter-button {\n",
       "                    --jp-layout-color3: #383838;\n",
       "                }\n",
       "                \n",
       "                .geemap-colab {\n",
       "                    background-color: var(--colab-primary-surface-color, white);\n",
       "                }\n",
       "                    \n",
       "                .geemap-colab .jupyter-button {\n",
       "                    --jp-layout-color3: var(--colab-primary-surface-color, white);\n",
       "                }\n",
       "            </style>\n",
       "            "
      ],
      "text/plain": [
       "<IPython.core.display.HTML object>"
      ]
     },
     "metadata": {},
     "output_type": "display_data"
    }
   ],
   "source": [
    "# 加载Sentinel-2图像集合，针对ROI进行筛选\n",
    "sentinel_images = ee.ImageCollection(\"COPERNICUS/S2_SR_HARMONIZED\") \\\n",
    "                    .filterBounds(roi) \\\n",
    "                    .filterDate('2023-01-01', '2023-12-31') \\\n",
    "                    .filter(ee.Filter.lt('CLOUDY_PIXEL_PERCENTAGE', 20))\n",
    "\n",
    "# 使用中值合成减少云影响，并将结果裁剪到ROI\n",
    "composite = sentinel_images.median().clip(roi)\n",
    "\n",
    "# 缩放图像值到0-1，以便于可视化\n",
    "def scale_image(image):\n",
    "    \"\"\"将图像的像素值缩放到0-1范围内。\"\"\"\n",
    "    return image.divide(10000).clamp(0, 1)\n",
    "\n",
    "# 应用缩放函数到合成图像\n",
    "scaled_composite = scale_image(composite)\n"
   ]
  },
  {
   "cell_type": "code",
   "execution_count": 4,
   "id": "74245864-3335-40d2-a098-2a3e9acd6485",
   "metadata": {},
   "outputs": [
    {
     "data": {
      "text/html": [
       "\n",
       "            <style>\n",
       "                .geemap-dark {\n",
       "                    --jp-widgets-color: white;\n",
       "                    --jp-widgets-label-color: white;\n",
       "                    --jp-ui-font-color1: white;\n",
       "                    --jp-layout-color2: #454545;\n",
       "                    background-color: #383838;\n",
       "                }\n",
       "                    \n",
       "                .geemap-dark .jupyter-button {\n",
       "                    --jp-layout-color3: #383838;\n",
       "                }\n",
       "                \n",
       "                .geemap-colab {\n",
       "                    background-color: var(--colab-primary-surface-color, white);\n",
       "                }\n",
       "                    \n",
       "                .geemap-colab .jupyter-button {\n",
       "                    --jp-layout-color3: var(--colab-primary-surface-color, white);\n",
       "                }\n",
       "            </style>\n",
       "            "
      ],
      "text/plain": [
       "<IPython.core.display.HTML object>"
      ]
     },
     "metadata": {},
     "output_type": "display_data"
    },
    {
     "data": {
      "application/vnd.jupyter.widget-view+json": {
       "model_id": "f238c8367eeb406786a86ded7d5a0b90",
       "version_major": 2,
       "version_minor": 0
      },
      "text/plain": [
       "Map(center=[31.927264240020794, 118.84598993136751], controls=(WidgetControl(options=['position', 'transparent…"
      ]
     },
     "execution_count": 4,
     "metadata": {},
     "output_type": "execute_result"
    }
   ],
   "source": [
    "# 计算增强植被指数（EVI）\n",
    "def calculate_evi(image):\n",
    "    \"\"\"计算给定图像的增强植被指数（EVI）。\"\"\"\n",
    "    evi = image.expression(\n",
    "        '2.5 * ((NIR - RED) / (NIR + 6 * RED - 7.5 * BLUE + 1))',\n",
    "        {\n",
    "            'NIR': image.select('B8'),  # Sentinel-2的近红外波段\n",
    "            'RED': image.select('B4'),  # 红色波段\n",
    "            'BLUE': image.select('B2')  # 蓝色波段\n",
    "        }\n",
    "    ).rename('EVI')\n",
    "    \n",
    "    return evi\n",
    "\n",
    "# 应用EVI计算并使用阈值筛选出绿地区域\n",
    "evi = calculate_evi(scaled_composite)\n",
    "green_space = evi.gte(0.35).selfMask()  # 使用EVI阈值>=0.35来定义绿地\n",
    "\n",
    "# 向地图添加合成图像和绿地图层\n",
    "Map.addLayer(scaled_composite, {'bands': ['B4', 'B3', 'B2'], 'min': 0, 'max': 1}, 'Composite Image')\n",
    "Map.addLayer(green_space, {'palette': ['00FF00']}, 'Green Spaces')  # 绿色显示绿地\n",
    "\n",
    "# 定位地图中心至南京，并设置合适的缩放级别\n",
    "Map.centerObject(roi, 11)\n",
    "\n",
    "# 显示地图\n",
    "Map\n"
   ]
  },
  {
   "cell_type": "code",
   "execution_count": 5,
   "id": "3b33c528-760f-4fbf-85d5-cd2242abd622",
   "metadata": {},
   "outputs": [
    {
     "data": {
      "text/html": [
       "\n",
       "            <style>\n",
       "                .geemap-dark {\n",
       "                    --jp-widgets-color: white;\n",
       "                    --jp-widgets-label-color: white;\n",
       "                    --jp-ui-font-color1: white;\n",
       "                    --jp-layout-color2: #454545;\n",
       "                    background-color: #383838;\n",
       "                }\n",
       "                    \n",
       "                .geemap-dark .jupyter-button {\n",
       "                    --jp-layout-color3: #383838;\n",
       "                }\n",
       "                \n",
       "                .geemap-colab {\n",
       "                    background-color: var(--colab-primary-surface-color, white);\n",
       "                }\n",
       "                    \n",
       "                .geemap-colab .jupyter-button {\n",
       "                    --jp-layout-color3: var(--colab-primary-surface-color, white);\n",
       "                }\n",
       "            </style>\n",
       "            "
      ],
      "text/plain": [
       "<IPython.core.display.HTML object>"
      ]
     },
     "metadata": {},
     "output_type": "display_data"
    },
    {
     "name": "stdout",
     "output_type": "stream",
     "text": [
      "南京市绿地面积: 860.85 平方公里\n",
      "南京市总面积: 6754.65 平方公里\n",
      "绿地面积占比: 12.74%\n"
     ]
    }
   ],
   "source": [
    "# 定义像素的空间分辨率，Sentinel-2图像的典型分辨率为10米\n",
    "pixel_scale = 10  # 以米为单位\n",
    "\n",
    "# 计算绿地面积\n",
    "green_space_area = green_space.multiply(ee.Image.pixelArea()).reduceRegion(\n",
    "    reducer=ee.Reducer.sum(),\n",
    "    geometry=roi,\n",
    "    scale=pixel_scale,\n",
    "    maxPixels=1e9\n",
    ").getInfo()['EVI']\n",
    "\n",
    "# 计算ROI（南京市）的总面积\n",
    "total_area = roi.area().getInfo()\n",
    "\n",
    "# 将面积从平方米转换为平方公里\n",
    "green_space_area_km2 = green_space_area / 1e6\n",
    "total_area_km2 = total_area / 1e6\n",
    "\n",
    "# 计算绿地面积占城市总面积的百分比\n",
    "green_space_percentage = (green_space_area_km2 / total_area_km2) * 100\n",
    "\n",
    "print(f\"南京市绿地面积: {green_space_area_km2:.2f} 平方公里\")\n",
    "print(f\"南京市总面积: {total_area_km2:.2f} 平方公里\")\n",
    "print(f\"绿地面积占比: {green_space_percentage:.2f}%\")"
   ]
  },
  {
   "cell_type": "code",
   "execution_count": null,
   "id": "88afeb61-4b3b-4cb8-9adf-55733d2a0cd8",
   "metadata": {},
   "outputs": [],
   "source": []
  },
  {
   "cell_type": "code",
   "execution_count": null,
   "id": "94aafe4f-a4db-476c-a3fb-69d0236c0c72",
   "metadata": {},
   "outputs": [],
   "source": []
  },
  {
   "cell_type": "code",
   "execution_count": null,
   "id": "b043f282-381e-4928-85d6-7e939d0efd58",
   "metadata": {},
   "outputs": [],
   "source": []
  },
  {
   "cell_type": "code",
   "execution_count": null,
   "id": "e8e2b57c-e842-4771-943a-a6dcf945f7d5",
   "metadata": {},
   "outputs": [],
   "source": []
  },
  {
   "cell_type": "code",
   "execution_count": null,
   "id": "ad5e1eb4-2052-4a4f-9524-21817ca0494c",
   "metadata": {},
   "outputs": [],
   "source": []
  },
  {
   "cell_type": "code",
   "execution_count": null,
   "id": "02cd87c3-6142-4f51-938b-5659e8c1b654",
   "metadata": {},
   "outputs": [],
   "source": []
  },
  {
   "cell_type": "code",
   "execution_count": null,
   "id": "e375c06c-3855-4f75-ae6f-43dd9a00badc",
   "metadata": {},
   "outputs": [],
   "source": []
  }
 ],
 "metadata": {
  "kernelspec": {
   "display_name": "Python 3 (ipykernel)",
   "language": "python",
   "name": "python3"
  },
  "language_info": {
   "codemirror_mode": {
    "name": "ipython",
    "version": 3
   },
   "file_extension": ".py",
   "mimetype": "text/x-python",
   "name": "python",
   "nbconvert_exporter": "python",
   "pygments_lexer": "ipython3",
   "version": "3.12.1"
  }
 },
 "nbformat": 4,
 "nbformat_minor": 5
}
